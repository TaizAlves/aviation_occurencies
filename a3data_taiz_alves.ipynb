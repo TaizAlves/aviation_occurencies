{
 "cells": [
  {
   "cell_type": "markdown",
   "id": "adult-pencil",
   "metadata": {},
   "source": [
    "# Contexto"
   ]
  },
  {
   "cell_type": "markdown",
   "id": "classical-narrow",
   "metadata": {},
   "source": [
    "Opendata AIG Brazil\n",
    "\n",
    "A base de dados de ocorrências aeronáuticas é gerenciada pelo Centro de Investigação e Prevenção de Acidentes Aeronáuticos (CENIPA). Constam nesta base de dados as ocorrências aeronáuticas notificadas ao CENIPA nos últimos 10 anos e que ocorreram em solo brasileiro.\n",
    "\n",
    "Dentre as informações disponíveis estão os dados sobre as aeronaves envolvidas, fatalidades, local, data, horário dos eventos e informações taxonômicas típicas das investigações de acidentes (AIG). São resguardadas a privacidade de pessoas físicas/jurídicas envolvidas conforme previsto pela Lei de Acesso à Informação (Lei n° 12.527, de 18 de novembro de 2011).\n",
    "\n",
    "Essa base de dados é composta por informações preliminares provenientes do formulário CENIPA-05 (Ficha de Notificação de Ocorrências Aeronáuticas) e consolidada a partir dos relatórios de investigações publicados. Outra forma de visualização desses dados é pelo Painel SIPAER disponível na página do CENIPA.\n",
    "\n",
    "Dados proveniente dos Programas de Gerenciamento de Prevenção administrados pelo CENIPA (Emissão de Raio Laser e Risco Baloeiro) não constam nesta base. Esses programas possuem formulários próprios para coleta de dados com foco exclusivo para gerenciamento do risco, enquanto os dados coletados pelo formulário CENIPA-05 têm foco principal na investigação de acidentes (AIG).\n",
    "Tabelas (arquivos)\n",
    "\n",
    "    OCORRÊNCIA.csv - Informações sobre as ocorrências.\n",
    "    OCORRÊNCIA_TIPO.csv - Informações sobre o tipo de ocorrência.\n",
    "    AERONAVE.csv - Informações sobre as aeronaves envolvidas nas ocorrências.\n",
    "    FATOR_CONTRIBUINTE.csv - Informações sobre os fatores contribuinte das ocorrências que tiveram investigações finalizadas.\n",
    "    RECOMENDAÇÃO.csv - Informações sobre as recomendações de segurança geradas nas ocorrências.\n",
    "    Fonte: Sistema DÉDALO.\n",
    "\n",
    "- Fonte \thttp://www.fab.mil.br/cenipa/\n",
    "- Autor \tCentro de Investigação e Prevenção de Acidentes Aeronáuticos\n",
    "- Última Atualização \t5 de Outubro de 2021, 19:19 (UTC-03:00)\n",
    "- Cobertura geográfica \tBrasil\n",
    "- Cobertura temporal \t2010 a 2019\n",
    "- Frequência de atualização \tAnual\n",
    "- Granularidade geográfica \tAeródromo\n",
    "- Granularidade temporal \tHora:Minuto"
   ]
  },
  {
   "cell_type": "markdown",
   "id": "immune-belarus",
   "metadata": {},
   "source": [
    "**40 Colunas Categoricas:**\n",
    "\n",
    "- ocorrencia_classificacao                 category\n",
    "- ocorrencia_latitude                      category\n",
    "- ocorrencia_longitude                     category\n",
    "- ocorrencia_cidade                        category\n",
    "- ocorrencia_uf                            category\n",
    "- ocorrencia_pais                          category\n",
    "- ocorrencia_aerodromo                     category\n",
    "- ocorrencia_hora                          category\n",
    "- investigacao_aeronave_liberada           category\n",
    "- investigacao_status                      category\n",
    "- divulgacao_relatorio_publicado           category\n",
    "- divulgacao_dia_publicacao                category\n",
    "- ocorrencia_saida_pista                   category\n",
    "- ocorrencia_tipo                          category\n",
    "- ocorrencia_tipo_categoria                category\n",
    "- taxonomia_tipo_icao                      category\n",
    "- aeronave_matricula                       category\n",
    "- aeronave_operador_categoria              category\n",
    "- aeronave_tipo_veiculo                    category\n",
    "- aeronave_fabricante                      category\n",
    "- aeronave_modelo                          category\n",
    "- aeronave_tipo_icao                       category\n",
    "- aeronave_motor_tipo                      category\n",
    "- aeronave_motor_quantidade                category\n",
    "- aeronave_pais_fabricante                 category\n",
    "- aeronave_pais_registro                   category\n",
    "- aeronave_registro_categoria              category\n",
    "- aeronave_registro_segmento               category\n",
    "- aeronave_voo_origem                      category\n",
    "- aeronave_voo_destino                     category\n",
    "- aeronave_fase_operacao                   category\n",
    "- aeronave_tipo_operacao                   category\n",
    "- aeronave_nivel_dano                      category\n",
    "- fator_nome                               category\n",
    "- fator_aspecto                            category\n",
    "- fator_condicionante                      category\n",
    "- fator_area                               category\n",
    "- recomendacao_conteudo                    category\n",
    "- recomendacao_status                      category\n",
    "- recomendacao_destinatario                category\n",
    "\n",
    "**07 Colunas numéricas:**\n",
    "\n",
    "- total_recomendacoes                         int32\n",
    "- total_aeronaves_envolvidas                  int32\n",
    "- aeronave_pmd                                int32\n",
    "- aeronave_pmd_categoria                      int32\n",
    "- aeronave_assentos                           int32\n",
    "- aeronave_ano_fabricacao                   : Faz quantos anos que foi fabricado\n",
    "- aeronave_fatalidades_total                  int32\n",
    "\n",
    "\n",
    "\n",
    "**04 Colunas de data/hora:**\n",
    "- ocorrencia_dia                     datetime64[ns]\n",
    "- ocorrencia_hora                          category\n",
    "- recomendacao_dia_assinatura                object\n",
    "- recomendacao_dia_encaminhamento            object"
   ]
  },
  {
   "cell_type": "markdown",
   "id": "synthetic-egypt",
   "metadata": {},
   "source": [
    "## Tabela Relacionamento"
   ]
  },
  {
   "cell_type": "markdown",
   "id": "devoted-partnership",
   "metadata": {
    "ExecuteTime": {
     "end_time": "2022-01-25T22:08:07.020009Z",
     "start_time": "2022-01-25T22:08:06.927013Z"
    }
   },
   "source": [
    "<img src=\"http://sistema.cenipa.aer.mil.br/cenipa/media/opendata/modelo_dados.png\" width=\"700 px\">"
   ]
  },
  {
   "cell_type": "markdown",
   "id": "later-separation",
   "metadata": {},
   "source": [
    "# 0.0. IMPORTS"
   ]
  },
  {
   "cell_type": "code",
   "execution_count": 1,
   "id": "worse-locking",
   "metadata": {
    "ExecuteTime": {
     "end_time": "2022-01-27T18:56:26.411304Z",
     "start_time": "2022-01-27T18:56:19.186248Z"
    }
   },
   "outputs": [
    {
     "name": "stderr",
     "output_type": "stream",
     "text": [
      "In C:\\Users\\ACER\\anaconda3\\envs\\datasciencemproducao\\lib\\site-packages\\matplotlib\\mpl-data\\stylelib\\_classic_test.mplstyle: \n",
      "The text.latex.preview rcparam was deprecated in Matplotlib 3.3 and will be removed two minor releases later.\n",
      "In C:\\Users\\ACER\\anaconda3\\envs\\datasciencemproducao\\lib\\site-packages\\matplotlib\\mpl-data\\stylelib\\_classic_test.mplstyle: \n",
      "The mathtext.fallback_to_cm rcparam was deprecated in Matplotlib 3.3 and will be removed two minor releases later.\n",
      "In C:\\Users\\ACER\\anaconda3\\envs\\datasciencemproducao\\lib\\site-packages\\matplotlib\\mpl-data\\stylelib\\_classic_test.mplstyle: Support for setting the 'mathtext.fallback_to_cm' rcParam is deprecated since 3.3 and will be removed two minor releases later; use 'mathtext.fallback : 'cm' instead.\n",
      "In C:\\Users\\ACER\\anaconda3\\envs\\datasciencemproducao\\lib\\site-packages\\matplotlib\\mpl-data\\stylelib\\_classic_test.mplstyle: \n",
      "The validate_bool_maybe_none function was deprecated in Matplotlib 3.3 and will be removed two minor releases later.\n",
      "In C:\\Users\\ACER\\anaconda3\\envs\\datasciencemproducao\\lib\\site-packages\\matplotlib\\mpl-data\\stylelib\\_classic_test.mplstyle: \n",
      "The savefig.jpeg_quality rcparam was deprecated in Matplotlib 3.3 and will be removed two minor releases later.\n",
      "In C:\\Users\\ACER\\anaconda3\\envs\\datasciencemproducao\\lib\\site-packages\\matplotlib\\mpl-data\\stylelib\\_classic_test.mplstyle: \n",
      "The keymap.all_axes rcparam was deprecated in Matplotlib 3.3 and will be removed two minor releases later.\n",
      "In C:\\Users\\ACER\\anaconda3\\envs\\datasciencemproducao\\lib\\site-packages\\matplotlib\\mpl-data\\stylelib\\_classic_test.mplstyle: \n",
      "The animation.avconv_path rcparam was deprecated in Matplotlib 3.3 and will be removed two minor releases later.\n",
      "In C:\\Users\\ACER\\anaconda3\\envs\\datasciencemproducao\\lib\\site-packages\\matplotlib\\mpl-data\\stylelib\\_classic_test.mplstyle: \n",
      "The animation.avconv_args rcparam was deprecated in Matplotlib 3.3 and will be removed two minor releases later.\n"
     ]
    }
   ],
   "source": [
    "import pandas as pd\n",
    "import numpy as np\n",
    "import math\n",
    "\n",
    "from matplotlib            import pyplot as plt\n",
    "\n",
    "from IPython.display import display\n",
    "pd.options.display.max_columns = None\n",
    "\n",
    "from IPython.core.display  import HTML\n",
    "\n",
    "\n",
    "import seaborn as sns"
   ]
  },
  {
   "cell_type": "markdown",
   "id": "indian-studio",
   "metadata": {},
   "source": [
    "## 0.1. Helper Functions"
   ]
  },
  {
   "cell_type": "markdown",
   "id": "banner-relaxation",
   "metadata": {
    "ExecuteTime": {
     "end_time": "2022-01-25T22:11:04.311738Z",
     "start_time": "2022-01-25T22:11:04.279686Z"
    }
   },
   "source": [
    "## 0.2. Loading data"
   ]
  },
  {
   "cell_type": "code",
   "execution_count": 2,
   "id": "bigger-terrorism",
   "metadata": {
    "ExecuteTime": {
     "end_time": "2022-01-27T18:56:32.684230Z",
     "start_time": "2022-01-27T18:56:26.415231Z"
    }
   },
   "outputs": [],
   "source": [
    "ocorrencia = pd.read_csv('http://sistema.cenipa.aer.mil.br/cenipa/media/opendata/ocorrencia.csv', sep=';')\n",
    "tipo_ocorrencia = pd.read_csv('http://sistema.cenipa.aer.mil.br/cenipa/media/opendata/ocorrencia_tipo.csv', sep=';')\n",
    "aeronave = pd.read_csv('http://sistema.cenipa.aer.mil.br/cenipa/media/opendata/aeronave.csv', sep=';')\n",
    "fator_contribuinte = pd.read_csv('http://sistema.cenipa.aer.mil.br/cenipa/media/opendata/fator_contribuinte.csv', sep=';')\n",
    "rec_seguranca = pd.read_csv('http://sistema.cenipa.aer.mil.br/cenipa/media/opendata/recomendacao.csv', sep=';')\n"
   ]
  },
  {
   "cell_type": "code",
   "execution_count": 3,
   "id": "positive-manufacturer",
   "metadata": {
    "ExecuteTime": {
     "end_time": "2022-01-27T18:56:32.828231Z",
     "start_time": "2022-01-27T18:56:32.693240Z"
    }
   },
   "outputs": [],
   "source": [
    "#merge\n",
    "aux1 = pd.merge( ocorrencia, tipo_ocorrencia, how='left', on='codigo_ocorrencia1' )\n",
    "aux2 = pd.merge( aux1, aeronave, how='left', on='codigo_ocorrencia2' )\n",
    "aux3 = pd.merge( aux2, fator_contribuinte, how='left', on='codigo_ocorrencia3' )\n",
    "df_raw = pd.merge( aux3, rec_seguranca, how='left', on='codigo_ocorrencia4' )\n",
    "\n"
   ]
  },
  {
   "cell_type": "code",
   "execution_count": 4,
   "id": "academic-recycling",
   "metadata": {
    "ExecuteTime": {
     "end_time": "2022-01-27T18:56:32.937234Z",
     "start_time": "2022-01-27T18:56:32.831232Z"
    }
   },
   "outputs": [
    {
     "name": "stdout",
     "output_type": "stream",
     "text": [
      "<class 'pandas.core.frame.DataFrame'>\n",
      "Int64Index: 17646 entries, 0 to 17645\n",
      "Data columns (total 59 columns):\n",
      " #   Column                           Non-Null Count  Dtype  \n",
      "---  ------                           --------------  -----  \n",
      " 0   codigo_ocorrencia                17646 non-null  int64  \n",
      " 1   codigo_ocorrencia1               17646 non-null  int64  \n",
      " 2   codigo_ocorrencia2               17646 non-null  int64  \n",
      " 3   codigo_ocorrencia3               17646 non-null  int64  \n",
      " 4   codigo_ocorrencia4               17646 non-null  int64  \n",
      " 5   ocorrencia_classificacao         17646 non-null  object \n",
      " 6   ocorrencia_latitude              16065 non-null  object \n",
      " 7   ocorrencia_longitude             16065 non-null  object \n",
      " 8   ocorrencia_cidade                17646 non-null  object \n",
      " 9   ocorrencia_uf                    17646 non-null  object \n",
      " 10  ocorrencia_pais                  17646 non-null  object \n",
      " 11  ocorrencia_aerodromo             17646 non-null  object \n",
      " 12  ocorrencia_dia                   17646 non-null  object \n",
      " 13  ocorrencia_hora                  17645 non-null  object \n",
      " 14  investigacao_aeronave_liberada   15694 non-null  object \n",
      " 15  investigacao_status              17292 non-null  object \n",
      " 16  divulgacao_relatorio_numero      16814 non-null  object \n",
      " 17  divulgacao_relatorio_publicado   17646 non-null  object \n",
      " 18  divulgacao_dia_publicacao        12906 non-null  object \n",
      " 19  total_recomendacoes              17646 non-null  int64  \n",
      " 20  total_aeronaves_envolvidas       17646 non-null  int64  \n",
      " 21  ocorrencia_saida_pista           17646 non-null  object \n",
      " 22  ocorrencia_tipo                  17646 non-null  object \n",
      " 23  ocorrencia_tipo_categoria        17646 non-null  object \n",
      " 24  taxonomia_tipo_icao              17646 non-null  object \n",
      " 25  aeronave_matricula               17646 non-null  object \n",
      " 26  aeronave_operador_categoria      17646 non-null  object \n",
      " 27  aeronave_tipo_veiculo            17646 non-null  object \n",
      " 28  aeronave_fabricante              17646 non-null  object \n",
      " 29  aeronave_modelo                  17646 non-null  object \n",
      " 30  aeronave_tipo_icao               17646 non-null  object \n",
      " 31  aeronave_motor_tipo              17643 non-null  object \n",
      " 32  aeronave_motor_quantidade        17646 non-null  object \n",
      " 33  aeronave_pmd                     17646 non-null  int64  \n",
      " 34  aeronave_pmd_categoria           17646 non-null  int64  \n",
      " 35  aeronave_assentos                17418 non-null  float64\n",
      " 36  aeronave_ano_fabricacao          17414 non-null  float64\n",
      " 37  aeronave_pais_fabricante         17646 non-null  object \n",
      " 38  aeronave_pais_registro           17646 non-null  object \n",
      " 39  aeronave_registro_categoria      17646 non-null  object \n",
      " 40  aeronave_registro_segmento       17646 non-null  object \n",
      " 41  aeronave_voo_origem              17645 non-null  object \n",
      " 42  aeronave_voo_destino             17645 non-null  object \n",
      " 43  aeronave_fase_operacao           17646 non-null  object \n",
      " 44  aeronave_tipo_operacao           17646 non-null  object \n",
      " 45  aeronave_nivel_dano              17646 non-null  object \n",
      " 46  aeronave_fatalidades_total       17646 non-null  int64  \n",
      " 47  fator_nome                       12465 non-null  object \n",
      " 48  fator_aspecto                    12465 non-null  object \n",
      " 49  fator_condicionante              12465 non-null  object \n",
      " 50  fator_area                       12465 non-null  object \n",
      " 51  recomendacao_numero              11400 non-null  object \n",
      " 52  recomendacao_dia_assinatura      11400 non-null  object \n",
      " 53  recomendacao_dia_encaminhamento  11400 non-null  object \n",
      " 54  recomendacao_dia_feedback        7293 non-null   object \n",
      " 55  recomendacao_conteudo            11399 non-null  object \n",
      " 56  recomendacao_status              11400 non-null  object \n",
      " 57  recomendacao_destinatario_sigla  11400 non-null  object \n",
      " 58  recomendacao_destinatario        11400 non-null  object \n",
      "dtypes: float64(2), int64(10), object(47)\n",
      "memory usage: 8.1+ MB\n"
     ]
    },
    {
     "name": "stderr",
     "output_type": "stream",
     "text": [
      "<ipython-input-4-7128da69681d>:1: FutureWarning: null_counts is deprecated. Use show_counts instead\n",
      "  df_raw.info(null_counts=True)\n"
     ]
    }
   ],
   "source": [
    "df_raw.info(null_counts=True)"
   ]
  },
  {
   "cell_type": "code",
   "execution_count": 5,
   "id": "enclosed-modern",
   "metadata": {
    "ExecuteTime": {
     "end_time": "2022-01-27T18:56:32.952275Z",
     "start_time": "2022-01-27T18:56:32.942234Z"
    }
   },
   "outputs": [],
   "source": [
    "#df_raw.to_csv('./data/ocorrencias_aeronauticas_raw.csv', index=False)"
   ]
  },
  {
   "cell_type": "code",
   "execution_count": 6,
   "id": "adjacent-contrary",
   "metadata": {
    "ExecuteTime": {
     "end_time": "2022-01-27T18:56:33.956307Z",
     "start_time": "2022-01-27T18:56:32.962241Z"
    }
   },
   "outputs": [],
   "source": [
    "df_raw = pd.read_csv('./data/ocorrencias_aeronauticas_raw.csv')"
   ]
  },
  {
   "cell_type": "code",
   "execution_count": 7,
   "id": "helpful-macro",
   "metadata": {
    "ExecuteTime": {
     "end_time": "2022-01-27T18:56:34.050269Z",
     "start_time": "2022-01-27T18:56:33.960230Z"
    }
   },
   "outputs": [
    {
     "name": "stdout",
     "output_type": "stream",
     "text": [
      "       codigo_ocorrencia  codigo_ocorrencia1  codigo_ocorrencia2  \\\n",
      "0                  40211               40211               40211   \n",
      "1                  40349               40349               40349   \n",
      "2                  40351               40351               40351   \n",
      "3                  39527               39527               39527   \n",
      "4                  39527               39527               39527   \n",
      "...                  ...                 ...                 ...   \n",
      "17641              80245               80245               80245   \n",
      "17642              80247               80247               80247   \n",
      "17643              80251               80251               80251   \n",
      "17644              80257               80257               80257   \n",
      "17645              80259               80259               80259   \n",
      "\n",
      "       codigo_ocorrencia3  codigo_ocorrencia4 ocorrencia_classificacao  \\\n",
      "0                   40211               40211                INCIDENTE   \n",
      "1                   40349               40349                INCIDENTE   \n",
      "2                   40351               40351                INCIDENTE   \n",
      "3                   39527               39527                 ACIDENTE   \n",
      "4                   39527               39527                 ACIDENTE   \n",
      "...                   ...                 ...                      ...   \n",
      "17641               80245               80245                INCIDENTE   \n",
      "17642               80247               80247                INCIDENTE   \n",
      "17643               80251               80251                INCIDENTE   \n",
      "17644               80257               80257                 ACIDENTE   \n",
      "17645               80259               80259                INCIDENTE   \n",
      "\n",
      "      ocorrencia_latitude ocorrencia_longitude   ocorrencia_cidade  \\\n",
      "0                     ***                  ***      RIO DE JANEIRO   \n",
      "1                     NaN                  NaN               BELÉM   \n",
      "2                     NaN                  NaN      RIO DE JANEIRO   \n",
      "3          -13.1066666667       -55.9930555556  LUCAS DO RIO VERDE   \n",
      "4          -13.1066666667       -55.9930555556  LUCAS DO RIO VERDE   \n",
      "...                   ...                  ...                 ...   \n",
      "17641            -8.12638            -34.92277              RECIFE   \n",
      "17642     -8.713611111111      -63.90277777777         PORTO VELHO   \n",
      "17643     -1.384722222222      -48.47888888888               BELÉM   \n",
      "17644          -15.430833           -54.699722          DOM AQUINO   \n",
      "17645     -23.00694444444      -47.13444444444            CAMPINAS   \n",
      "\n",
      "      ocorrencia_uf ocorrencia_pais ocorrencia_aerodromo ocorrencia_dia  \\\n",
      "0                RJ          BRASIL                 ****     03/01/2010   \n",
      "1                PA          BRASIL                 SBBE     03/01/2010   \n",
      "2                RJ          BRASIL                 SBRJ     03/01/2010   \n",
      "3                MT          BRASIL                 ****     04/01/2010   \n",
      "4                MT          BRASIL                 ****     04/01/2010   \n",
      "...             ...             ...                  ...            ...   \n",
      "17641            PE          BRASIL                 SBRF     15/08/2021   \n",
      "17642            RO          BRASIL                 SBPV     16/08/2021   \n",
      "17643            PA          BRASIL                 SBBE     17/08/2021   \n",
      "17644            MT          BRASIL                 ****     18/08/2021   \n",
      "17645            SP          BRASIL                 SBKP     18/08/2021   \n",
      "\n",
      "      ocorrencia_hora investigacao_aeronave_liberada investigacao_status  \\\n",
      "0            12:00:00                            SIM          FINALIZADA   \n",
      "1            11:05:00                            SIM          FINALIZADA   \n",
      "2            03:00:00                            SIM          FINALIZADA   \n",
      "3            17:30:00                            SIM          FINALIZADA   \n",
      "4            17:30:00                            SIM          FINALIZADA   \n",
      "...               ...                            ...                 ...   \n",
      "17641        15:05:00                            SIM          FINALIZADA   \n",
      "17642        02:30:00                            SIM          FINALIZADA   \n",
      "17643        15:45:00                            SIM          FINALIZADA   \n",
      "17644        16:00:00                            SIM          FINALIZADA   \n",
      "17645        12:45:00                            SIM          FINALIZADA   \n",
      "\n",
      "      divulgacao_relatorio_numero divulgacao_relatorio_publicado  \\\n",
      "0                             ***                            NÃO   \n",
      "1                             NaN                            NÃO   \n",
      "2                             NaN                            NÃO   \n",
      "3               A-539/CENIPA/2018                            SIM   \n",
      "4               A-539/CENIPA/2018                            SIM   \n",
      "...                           ...                            ...   \n",
      "17641                         ***                            NÃO   \n",
      "17642                         ***                            NÃO   \n",
      "17643                         ***                            NÃO   \n",
      "17644                         ***                            NÃO   \n",
      "17645                         ***                            NÃO   \n",
      "\n",
      "      divulgacao_dia_publicacao  total_recomendacoes  \\\n",
      "0                           NaN                    0   \n",
      "1                           NaN                    0   \n",
      "2                           NaN                    0   \n",
      "3                    2019-10-28                    0   \n",
      "4                    2019-10-28                    0   \n",
      "...                         ...                  ...   \n",
      "17641                       NaN                    0   \n",
      "17642                       NaN                    0   \n",
      "17643                       NaN                    0   \n",
      "17644                       NaN                    0   \n",
      "17645                       NaN                    0   \n",
      "\n",
      "       total_aeronaves_envolvidas ocorrencia_saida_pista  \\\n",
      "0                               1                    NÃO   \n",
      "1                               1                    NÃO   \n",
      "2                               1                    NÃO   \n",
      "3                               1                    NÃO   \n",
      "4                               1                    NÃO   \n",
      "...                           ...                    ...   \n",
      "17641                           1                    NÃO   \n",
      "17642                           1                    NÃO   \n",
      "17643                           1                    NÃO   \n",
      "17644                           1                    NÃO   \n",
      "17645                           1                    NÃO   \n",
      "\n",
      "                                         ocorrencia_tipo  \\\n",
      "0                                          TRÁFEGO AÉREO   \n",
      "1                                        COLISÃO COM AVE   \n",
      "2                                        COLISÃO COM AVE   \n",
      "3                              OPERAÇÃO A BAIXA ALTITUDE   \n",
      "4                              OPERAÇÃO A BAIXA ALTITUDE   \n",
      "...                                                  ...   \n",
      "17641                     COLISÃO COM OBSTÁCULOS NO SOLO   \n",
      "17642                              FALHA DO MOTOR EM VOO   \n",
      "17643  FALHA OU MAU FUNCIONAMENTO DE SISTEMA / COMPON...   \n",
      "17644                                      INDETERMINADO   \n",
      "17645                FALHA OU MAU FUNCIONAMENTO DO MOTOR   \n",
      "\n",
      "                               ocorrencia_tipo_categoria taxonomia_tipo_icao  \\\n",
      "0      PERDA DE SEPARAÇÃO / COLISÃO EM VOO | TRÁFEGO ...                 MAC   \n",
      "1                                        COLISÃO COM AVE                BIRD   \n",
      "2                                        COLISÃO COM AVE                BIRD   \n",
      "3                              OPERAÇÃO A BAIXA ALTITUDE                LALT   \n",
      "4                              OPERAÇÃO A BAIXA ALTITUDE                LALT   \n",
      "...                                                  ...                 ...   \n",
      "17641   COLISÃO NO SOLO | COLISÃO COM OBSTÁCULOS NO SOLO                GCOL   \n",
      "17642  FALHA OU MAU FUNCIONAMENTO DO MOTOR | FALHA DO...              SCF-PP   \n",
      "17643  FALHA OU MAU FUNCIONAMENTO DE SISTEMA / COMPON...              SCF-NP   \n",
      "17644                                      INDETERMINADO                 UNK   \n",
      "17645                FALHA OU MAU FUNCIONAMENTO DO MOTOR              SCF-PP   \n",
      "\n",
      "      aeronave_matricula aeronave_operador_categoria aeronave_tipo_veiculo  \\\n",
      "0                  PRCHE                  TÁXI AÉREO           HELICÓPTERO   \n",
      "1                  PRMAB                     REGULAR                 AVIÃO   \n",
      "2                  PRMBW                     REGULAR                 AVIÃO   \n",
      "3                  PTURT                         ***                 AVIÃO   \n",
      "4                  PTURT                         ***                 AVIÃO   \n",
      "...                  ...                         ...                   ...   \n",
      "17641              PPPVS                         ***                 AVIÃO   \n",
      "17642              PRXMC                         ***                 AVIÃO   \n",
      "17643              PRAJY                         ***                 AVIÃO   \n",
      "17644              PRLBR                         ***           HELICÓPTERO   \n",
      "17645              PRYRE                         ***                 AVIÃO   \n",
      "\n",
      "               aeronave_fabricante aeronave_modelo aeronave_tipo_icao  \\\n",
      "0                SIKORSKY AIRCRAFT           S-76C                S76   \n",
      "1                 AIRBUS INDUSTRIE        A320-232               A320   \n",
      "2                 AIRBUS INDUSTRIE        A319-132               A319   \n",
      "3      NEIVA INDUSTRIA AERONAUTICA         EMB-202               IPAN   \n",
      "4      NEIVA INDUSTRIA AERONAUTICA         EMB-202               IPAN   \n",
      "...                            ...             ...                ...   \n",
      "17641                      EMBRAER         EMB-500               E50P   \n",
      "17642               BOEING COMPANY       737-8 MAX               B38M   \n",
      "17643               BOEING COMPANY         737-48E                737   \n",
      "17644          ROBINSON HELICOPTER          R44 II                R44   \n",
      "17645             AIRBUS INDUSTRIE       A320-251N               A320   \n",
      "\n",
      "      aeronave_motor_tipo aeronave_motor_quantidade  aeronave_pmd  \\\n",
      "0               TURBOEIXO                   BIMOTOR          5307   \n",
      "1                    JATO                   BIMOTOR         70000   \n",
      "2                    JATO                   BIMOTOR         75500   \n",
      "3                  PISTÃO                 MONOMOTOR          1800   \n",
      "4                  PISTÃO                 MONOMOTOR          1800   \n",
      "...                   ...                       ...           ...   \n",
      "17641                 NaN                SEM TRAÇÃO          4750   \n",
      "17642                JATO                   BIMOTOR         82190   \n",
      "17643                JATO                   BIMOTOR         65090   \n",
      "17644              PISTÃO                 MONOMOTOR          1134   \n",
      "17645                JATO                   BIMOTOR         77000   \n",
      "\n",
      "       aeronave_pmd_categoria  aeronave_assentos  aeronave_ano_fabricacao  \\\n",
      "0                        5307               14.0                   2007.0   \n",
      "1                       70000              184.0                   2001.0   \n",
      "2                       75500              154.0                   2008.0   \n",
      "3                        1800                1.0                   2004.0   \n",
      "4                        1800                1.0                   2004.0   \n",
      "...                       ...                ...                      ...   \n",
      "17641                    4750                0.0                      0.0   \n",
      "17642                   82190              196.0                   2018.0   \n",
      "17643                   65090              192.0                      NaN   \n",
      "17644                    1134                4.0                   2010.0   \n",
      "17645                   77000              183.0                      NaN   \n",
      "\n",
      "      aeronave_pais_fabricante aeronave_pais_registro  \\\n",
      "0                       BRASIL                 BRASIL   \n",
      "1                       BRASIL                 BRASIL   \n",
      "2                       BRASIL                 BRASIL   \n",
      "3                       BRASIL                 BRASIL   \n",
      "4                       BRASIL                 BRASIL   \n",
      "...                        ...                    ...   \n",
      "17641                   BRASIL                 BRASIL   \n",
      "17642                   BRASIL                 BRASIL   \n",
      "17643                   BRASIL                 BRASIL   \n",
      "17644                   BRASIL                 BRASIL   \n",
      "17645                   BRASIL                 BRASIL   \n",
      "\n",
      "      aeronave_registro_categoria aeronave_registro_segmento  \\\n",
      "0                     HELICÓPTERO                 TÁXI AÉREO   \n",
      "1                           AVIÃO                    REGULAR   \n",
      "2                           AVIÃO                    REGULAR   \n",
      "3                           AVIÃO                 PARTICULAR   \n",
      "4                           AVIÃO                 PARTICULAR   \n",
      "...                           ...                        ...   \n",
      "17641                       AVIÃO                 TÁXI AÉREO   \n",
      "17642                       AVIÃO                    REGULAR   \n",
      "17643                       AVIÃO                    REGULAR   \n",
      "17644                 HELICÓPTERO                 PARTICULAR   \n",
      "17645                       AVIÃO                    REGULAR   \n",
      "\n",
      "                     aeronave_voo_origem          aeronave_voo_destino  \\\n",
      "0                      FORA DE AERODROMO             FORA DE AERODROMO   \n",
      "1                      FORA DE AERODROMO             FORA DE AERODROMO   \n",
      "2                      FORA DE AERODROMO             FORA DE AERODROMO   \n",
      "3               FAZENDA IRMÃOS MUNARETTO      FAZENDA IRMÃOS MUNARETTO   \n",
      "4               FAZENDA IRMÃOS MUNARETTO      FAZENDA IRMÃOS MUNARETTO   \n",
      "...                                  ...                           ...   \n",
      "17641                          CONGONHAS  GUARARAPES - GILBERTO FREYRE   \n",
      "17642    PRESIDENTE JUSCELINO KUBITSCHEK             PLÁCIDO DE CASTRO   \n",
      "17643  VAL DE CANS / JÚLIO CEZAR RIBEIRO                 PINTO MARTINS   \n",
      "17644                                ***                           ***   \n",
      "17645                      SALGADO FILHO  GUARARAPES - GILBERTO FREYRE   \n",
      "\n",
      "      aeronave_fase_operacao aeronave_tipo_operacao aeronave_nivel_dano  \\\n",
      "0                  DECOLAGEM             TÁXI AÉREO              NENHUM   \n",
      "1                  DECOLAGEM                REGULAR                LEVE   \n",
      "2              INDETERMINADA                REGULAR                LEVE   \n",
      "3         VOO A BAIXA ALTURA               AGRÍCOLA         SUBSTANCIAL   \n",
      "4         VOO A BAIXA ALTURA               AGRÍCOLA         SUBSTANCIAL   \n",
      "...                      ...                    ...                 ...   \n",
      "17641         ESTACIONAMENTO             TÁXI AÉREO                LEVE   \n",
      "17642               CRUZEIRO                REGULAR              NENHUM   \n",
      "17643                 SUBIDA                REGULAR              NENHUM   \n",
      "17644                    ***                PRIVADA           DESTRUÍDA   \n",
      "17645               CRUZEIRO                REGULAR              NENHUM   \n",
      "\n",
      "       aeronave_fatalidades_total               fator_nome  \\\n",
      "0                               0                      NaN   \n",
      "1                               0                      NaN   \n",
      "2                               0                      NaN   \n",
      "3                               0    APLICAÇÃO DE COMANDOS   \n",
      "4                               0  JULGAMENTO DE PILOTAGEM   \n",
      "...                           ...                      ...   \n",
      "17641                           0                      NaN   \n",
      "17642                           0                      NaN   \n",
      "17643                           0                      NaN   \n",
      "17644                           0                      NaN   \n",
      "17645                           0                      NaN   \n",
      "\n",
      "                  fator_aspecto   fator_condicionante         fator_area  \\\n",
      "0                           NaN                   NaN                NaN   \n",
      "1                           NaN                   NaN                NaN   \n",
      "2                           NaN                   NaN                NaN   \n",
      "3      DESEMPENHO DO SER HUMANO  OPERAÇÃO DA AERONAVE  FATOR OPERACIONAL   \n",
      "4      DESEMPENHO DO SER HUMANO  OPERAÇÃO DA AERONAVE  FATOR OPERACIONAL   \n",
      "...                         ...                   ...                ...   \n",
      "17641                       NaN                   NaN                NaN   \n",
      "17642                       NaN                   NaN                NaN   \n",
      "17643                       NaN                   NaN                NaN   \n",
      "17644                       NaN                   NaN                NaN   \n",
      "17645                       NaN                   NaN                NaN   \n",
      "\n",
      "      recomendacao_numero recomendacao_dia_assinatura  \\\n",
      "0                     NaN                         NaN   \n",
      "1                     NaN                         NaN   \n",
      "2                     NaN                         NaN   \n",
      "3                     NaN                         NaN   \n",
      "4                     NaN                         NaN   \n",
      "...                   ...                         ...   \n",
      "17641                 NaN                         NaN   \n",
      "17642                 NaN                         NaN   \n",
      "17643                 NaN                         NaN   \n",
      "17644                 NaN                         NaN   \n",
      "17645                 NaN                         NaN   \n",
      "\n",
      "      recomendacao_dia_encaminhamento recomendacao_dia_feedback  \\\n",
      "0                                 NaN                       NaN   \n",
      "1                                 NaN                       NaN   \n",
      "2                                 NaN                       NaN   \n",
      "3                                 NaN                       NaN   \n",
      "4                                 NaN                       NaN   \n",
      "...                               ...                       ...   \n",
      "17641                             NaN                       NaN   \n",
      "17642                             NaN                       NaN   \n",
      "17643                             NaN                       NaN   \n",
      "17644                             NaN                       NaN   \n",
      "17645                             NaN                       NaN   \n",
      "\n",
      "      recomendacao_conteudo recomendacao_status  \\\n",
      "0                       NaN                 NaN   \n",
      "1                       NaN                 NaN   \n",
      "2                       NaN                 NaN   \n",
      "3                       NaN                 NaN   \n",
      "4                       NaN                 NaN   \n",
      "...                     ...                 ...   \n",
      "17641                   NaN                 NaN   \n",
      "17642                   NaN                 NaN   \n",
      "17643                   NaN                 NaN   \n",
      "17644                   NaN                 NaN   \n",
      "17645                   NaN                 NaN   \n",
      "\n",
      "      recomendacao_destinatario_sigla recomendacao_destinatario  \n",
      "0                                 NaN                       NaN  \n",
      "1                                 NaN                       NaN  \n",
      "2                                 NaN                       NaN  \n",
      "3                                 NaN                       NaN  \n",
      "4                                 NaN                       NaN  \n",
      "...                               ...                       ...  \n",
      "17641                             NaN                       NaN  \n",
      "17642                             NaN                       NaN  \n",
      "17643                             NaN                       NaN  \n",
      "17644                             NaN                       NaN  \n",
      "17645                             NaN                       NaN  \n",
      "\n",
      "[17646 rows x 59 columns]\n"
     ]
    }
   ],
   "source": [
    "with pd.option_context('display.max_rows', 10):\n",
    "    print(df_raw)"
   ]
  },
  {
   "cell_type": "markdown",
   "id": "boolean-velvet",
   "metadata": {},
   "source": [
    "# 1.0.  DESCRICAO DOS DADOS"
   ]
  },
  {
   "cell_type": "code",
   "execution_count": 8,
   "id": "respiratory-transcription",
   "metadata": {
    "ExecuteTime": {
     "end_time": "2022-01-27T18:56:34.082278Z",
     "start_time": "2022-01-27T18:56:34.055231Z"
    }
   },
   "outputs": [],
   "source": [
    "df1 = df_raw.copy()"
   ]
  },
  {
   "cell_type": "markdown",
   "id": "circular-jersey",
   "metadata": {},
   "source": [
    "## 1.1. Rename Columns"
   ]
  },
  {
   "cell_type": "markdown",
   "id": "uniform-unknown",
   "metadata": {
    "ExecuteTime": {
     "end_time": "2022-01-25T23:44:22.477901Z",
     "start_time": "2022-01-25T23:44:22.471937Z"
    },
    "heading_collapsed": true
   },
   "source": [
    "## 1.2. Data Dimensions"
   ]
  },
  {
   "cell_type": "code",
   "execution_count": 9,
   "id": "flexible-relaxation",
   "metadata": {
    "ExecuteTime": {
     "end_time": "2022-01-27T18:56:34.098238Z",
     "start_time": "2022-01-27T18:56:34.086239Z"
    },
    "hidden": true
   },
   "outputs": [
    {
     "name": "stdout",
     "output_type": "stream",
     "text": [
      "Number of Rows: 17646\n",
      "Number of Cols: 59\n"
     ]
    }
   ],
   "source": [
    "print( 'Number of Rows: {}'.format( df1.shape[0] ) )\n",
    "print( 'Number of Cols: {}'.format( df1.shape[1] ) )"
   ]
  },
  {
   "cell_type": "code",
   "execution_count": 10,
   "id": "exceptional-level",
   "metadata": {
    "ExecuteTime": {
     "end_time": "2022-01-27T18:56:34.210230Z",
     "start_time": "2022-01-27T18:56:34.109236Z"
    },
    "hidden": true
   },
   "outputs": [
    {
     "name": "stdout",
     "output_type": "stream",
     "text": [
      "<class 'pandas.core.frame.DataFrame'>\n",
      "RangeIndex: 17646 entries, 0 to 17645\n",
      "Data columns (total 59 columns):\n",
      " #   Column                           Non-Null Count  Dtype  \n",
      "---  ------                           --------------  -----  \n",
      " 0   codigo_ocorrencia                17646 non-null  int64  \n",
      " 1   codigo_ocorrencia1               17646 non-null  int64  \n",
      " 2   codigo_ocorrencia2               17646 non-null  int64  \n",
      " 3   codigo_ocorrencia3               17646 non-null  int64  \n",
      " 4   codigo_ocorrencia4               17646 non-null  int64  \n",
      " 5   ocorrencia_classificacao         17646 non-null  object \n",
      " 6   ocorrencia_latitude              16065 non-null  object \n",
      " 7   ocorrencia_longitude             16065 non-null  object \n",
      " 8   ocorrencia_cidade                17646 non-null  object \n",
      " 9   ocorrencia_uf                    17646 non-null  object \n",
      " 10  ocorrencia_pais                  17646 non-null  object \n",
      " 11  ocorrencia_aerodromo             17646 non-null  object \n",
      " 12  ocorrencia_dia                   17646 non-null  object \n",
      " 13  ocorrencia_hora                  17645 non-null  object \n",
      " 14  investigacao_aeronave_liberada   15694 non-null  object \n",
      " 15  investigacao_status              17292 non-null  object \n",
      " 16  divulgacao_relatorio_numero      16814 non-null  object \n",
      " 17  divulgacao_relatorio_publicado   17646 non-null  object \n",
      " 18  divulgacao_dia_publicacao        12906 non-null  object \n",
      " 19  total_recomendacoes              17646 non-null  int64  \n",
      " 20  total_aeronaves_envolvidas       17646 non-null  int64  \n",
      " 21  ocorrencia_saida_pista           17646 non-null  object \n",
      " 22  ocorrencia_tipo                  17646 non-null  object \n",
      " 23  ocorrencia_tipo_categoria        17646 non-null  object \n",
      " 24  taxonomia_tipo_icao              17646 non-null  object \n",
      " 25  aeronave_matricula               17646 non-null  object \n",
      " 26  aeronave_operador_categoria      17646 non-null  object \n",
      " 27  aeronave_tipo_veiculo            17646 non-null  object \n",
      " 28  aeronave_fabricante              17646 non-null  object \n",
      " 29  aeronave_modelo                  17646 non-null  object \n",
      " 30  aeronave_tipo_icao               17646 non-null  object \n",
      " 31  aeronave_motor_tipo              17643 non-null  object \n",
      " 32  aeronave_motor_quantidade        17646 non-null  object \n",
      " 33  aeronave_pmd                     17646 non-null  int64  \n",
      " 34  aeronave_pmd_categoria           17646 non-null  int64  \n",
      " 35  aeronave_assentos                17418 non-null  float64\n",
      " 36  aeronave_ano_fabricacao          17414 non-null  float64\n",
      " 37  aeronave_pais_fabricante         17646 non-null  object \n",
      " 38  aeronave_pais_registro           17646 non-null  object \n",
      " 39  aeronave_registro_categoria      17646 non-null  object \n",
      " 40  aeronave_registro_segmento       17646 non-null  object \n",
      " 41  aeronave_voo_origem              17645 non-null  object \n",
      " 42  aeronave_voo_destino             17645 non-null  object \n",
      " 43  aeronave_fase_operacao           17646 non-null  object \n",
      " 44  aeronave_tipo_operacao           17646 non-null  object \n",
      " 45  aeronave_nivel_dano              17646 non-null  object \n",
      " 46  aeronave_fatalidades_total       17646 non-null  int64  \n",
      " 47  fator_nome                       12465 non-null  object \n",
      " 48  fator_aspecto                    12465 non-null  object \n",
      " 49  fator_condicionante              12465 non-null  object \n",
      " 50  fator_area                       12465 non-null  object \n",
      " 51  recomendacao_numero              11400 non-null  object \n",
      " 52  recomendacao_dia_assinatura      11400 non-null  object \n",
      " 53  recomendacao_dia_encaminhamento  11400 non-null  object \n",
      " 54  recomendacao_dia_feedback        7293 non-null   object \n",
      " 55  recomendacao_conteudo            11399 non-null  object \n",
      " 56  recomendacao_status              11400 non-null  object \n",
      " 57  recomendacao_destinatario_sigla  11400 non-null  object \n",
      " 58  recomendacao_destinatario        11400 non-null  object \n",
      "dtypes: float64(2), int64(10), object(47)\n",
      "memory usage: 7.9+ MB\n"
     ]
    },
    {
     "name": "stderr",
     "output_type": "stream",
     "text": [
      "<ipython-input-10-6769e3449d77>:2: FutureWarning: null_counts is deprecated. Use show_counts instead\n",
      "  df1.info(null_counts=True)\n"
     ]
    }
   ],
   "source": [
    "# check raw data main infos\n",
    "df1.info(null_counts=True)"
   ]
  },
  {
   "cell_type": "markdown",
   "id": "spread-canvas",
   "metadata": {
    "heading_collapsed": true
   },
   "source": [
    "## 1.3. Data Types"
   ]
  },
  {
   "cell_type": "markdown",
   "id": "respected-while",
   "metadata": {
    "ExecuteTime": {
     "end_time": "2022-01-26T01:10:26.263549Z",
     "start_time": "2022-01-26T01:10:26.257543Z"
    },
    "hidden": true
   },
   "source": [
    "### Alterando os tipos dos dados para facilitar a manipulação de dados e reduzir o uso de recursos computacionais"
   ]
  },
  {
   "cell_type": "code",
   "execution_count": 11,
   "id": "continuing-seller",
   "metadata": {
    "ExecuteTime": {
     "end_time": "2022-01-27T18:56:34.242238Z",
     "start_time": "2022-01-27T18:56:34.215237Z"
    },
    "hidden": true
   },
   "outputs": [
    {
     "data": {
      "text/plain": [
       "codigo_ocorrencia                    int64\n",
       "codigo_ocorrencia1                   int64\n",
       "codigo_ocorrencia2                   int64\n",
       "codigo_ocorrencia3                   int64\n",
       "codigo_ocorrencia4                   int64\n",
       "ocorrencia_classificacao            object\n",
       "ocorrencia_latitude                 object\n",
       "ocorrencia_longitude                object\n",
       "ocorrencia_cidade                   object\n",
       "ocorrencia_uf                       object\n",
       "ocorrencia_pais                     object\n",
       "ocorrencia_aerodromo                object\n",
       "ocorrencia_dia                      object\n",
       "ocorrencia_hora                     object\n",
       "investigacao_aeronave_liberada      object\n",
       "investigacao_status                 object\n",
       "divulgacao_relatorio_numero         object\n",
       "divulgacao_relatorio_publicado      object\n",
       "divulgacao_dia_publicacao           object\n",
       "total_recomendacoes                  int64\n",
       "total_aeronaves_envolvidas           int64\n",
       "ocorrencia_saida_pista              object\n",
       "ocorrencia_tipo                     object\n",
       "ocorrencia_tipo_categoria           object\n",
       "taxonomia_tipo_icao                 object\n",
       "aeronave_matricula                  object\n",
       "aeronave_operador_categoria         object\n",
       "aeronave_tipo_veiculo               object\n",
       "aeronave_fabricante                 object\n",
       "aeronave_modelo                     object\n",
       "aeronave_tipo_icao                  object\n",
       "aeronave_motor_tipo                 object\n",
       "aeronave_motor_quantidade           object\n",
       "aeronave_pmd                         int64\n",
       "aeronave_pmd_categoria               int64\n",
       "aeronave_assentos                  float64\n",
       "aeronave_ano_fabricacao            float64\n",
       "aeronave_pais_fabricante            object\n",
       "aeronave_pais_registro              object\n",
       "aeronave_registro_categoria         object\n",
       "aeronave_registro_segmento          object\n",
       "aeronave_voo_origem                 object\n",
       "aeronave_voo_destino                object\n",
       "aeronave_fase_operacao              object\n",
       "aeronave_tipo_operacao              object\n",
       "aeronave_nivel_dano                 object\n",
       "aeronave_fatalidades_total           int64\n",
       "fator_nome                          object\n",
       "fator_aspecto                       object\n",
       "fator_condicionante                 object\n",
       "fator_area                          object\n",
       "recomendacao_numero                 object\n",
       "recomendacao_dia_assinatura         object\n",
       "recomendacao_dia_encaminhamento     object\n",
       "recomendacao_dia_feedback           object\n",
       "recomendacao_conteudo               object\n",
       "recomendacao_status                 object\n",
       "recomendacao_destinatario_sigla     object\n",
       "recomendacao_destinatario           object\n",
       "dtype: object"
      ]
     },
     "execution_count": 11,
     "metadata": {},
     "output_type": "execute_result"
    }
   ],
   "source": [
    "df1.dtypes"
   ]
  },
  {
   "cell_type": "code",
   "execution_count": 12,
   "id": "continental-unknown",
   "metadata": {
    "ExecuteTime": {
     "end_time": "2022-01-27T18:56:34.411230Z",
     "start_time": "2022-01-27T18:56:34.247235Z"
    },
    "hidden": true
   },
   "outputs": [],
   "source": [
    "#ocorrencia_dia - mudar para datetime \n",
    "df1.ocorrencia_dia = pd.to_datetime(df1['ocorrencia_dia'], format='%d/%m/%Y')\n",
    "df1.ocorrencia_dia = pd.to_datetime(df1['ocorrencia_dia'], format='%Y-%m-%d')\n",
    "\n",
    "\n",
    "# recomendacao_dia_encaminhamento - 0 se dia for data com má formato \n",
    "df1['recomendacao_dia_encaminhamento'] = df1['recomendacao_dia_encaminhamento'].apply( lambda x: 0 if ((x == '0002-11-29') or( x =='0002-11-24')or (x == '0002-11-17') or (x == '0002-11-27') or (x == '0002-11-26')) else x )\n",
    "df1['recomendacao_dia_encaminhamento'] =   pd.to_datetime(df1['recomendacao_dia_encaminhamento'], format= '%Y-%m-%d')\n",
    "\n",
    "\n",
    "#recomendacao_dia_feedback\n",
    "df1['recomendacao_dia_feedback'] = df1['recomendacao_dia_feedback'].apply(lambda x: 0 if ((x == '0000-00-00') or (x == '0002-11-29') or (x == '0002-11-21') or (x == '0002-11-23')) else x)\n",
    "df1['recomendacao_dia_feedback'] =   pd.to_datetime(df1['recomendacao_dia_feedback'], format= '%Y-%m-%d')\n",
    "\n",
    "#recomendacao_dia_assinatura\n",
    "df1['recomendacao_dia_assinatura'] =   pd.to_datetime(df1['recomendacao_dia_assinatura'], format= '%Y-%m-%d')"
   ]
  },
  {
   "cell_type": "code",
   "execution_count": 13,
   "id": "forbidden-fourth",
   "metadata": {
    "ExecuteTime": {
     "end_time": "2022-01-27T18:56:34.458230Z",
     "start_time": "2022-01-27T18:56:34.414235Z"
    },
    "hidden": true
   },
   "outputs": [],
   "source": [
    "# convertendo os dados numéricos\n",
    "for c in df1.select_dtypes( include=['int64'] ):\n",
    "    df1[c] = df1[c].astype('int32')\n",
    "    \n",
    "# 36  aeronave_ano_fabricacao          17414 non-null  float64\n",
    "df1['aeronave_ano_fabricacao'] = df1['aeronave_fatalidades_total'].astype('int32')"
   ]
  },
  {
   "cell_type": "code",
   "execution_count": 14,
   "id": "popular-stupid",
   "metadata": {
    "ExecuteTime": {
     "end_time": "2022-01-27T18:56:34.474232Z",
     "start_time": "2022-01-27T18:56:34.461234Z"
    },
    "hidden": true
   },
   "outputs": [],
   "source": [
    "# 35  aeronave_assentos                17646 non-null  int32  \n",
    "# aeronave_assentos - 0 para na - lidarei com os na mais tarde\n",
    "df1['aeronave_assentos'].fillna(0, inplace=True )\n",
    "df1.aeronave_assentos =df1['aeronave_assentos'].astype('int32')"
   ]
  },
  {
   "cell_type": "code",
   "execution_count": 15,
   "id": "crucial-benefit",
   "metadata": {
    "ExecuteTime": {
     "end_time": "2022-01-27T18:56:34.918237Z",
     "start_time": "2022-01-27T18:56:34.478236Z"
    },
    "hidden": true
   },
   "outputs": [],
   "source": [
    "# convertendo os dados categóricos\n",
    "for c in df1.select_dtypes( include=['object'] ):\n",
    "    df1[c] = df1[c].astype('category')"
   ]
  },
  {
   "cell_type": "code",
   "execution_count": 16,
   "id": "fabulous-speech",
   "metadata": {
    "ExecuteTime": {
     "end_time": "2022-01-27T18:56:35.220274Z",
     "start_time": "2022-01-27T18:56:34.922240Z"
    },
    "hidden": true
   },
   "outputs": [
    {
     "name": "stdout",
     "output_type": "stream",
     "text": [
      "<class 'pandas.core.frame.DataFrame'>\n",
      "RangeIndex: 17646 entries, 0 to 17645\n",
      "Data columns (total 59 columns):\n",
      " #   Column                           Non-Null Count  Dtype         \n",
      "---  ------                           --------------  -----         \n",
      " 0   codigo_ocorrencia                17646 non-null  int32         \n",
      " 1   codigo_ocorrencia1               17646 non-null  int32         \n",
      " 2   codigo_ocorrencia2               17646 non-null  int32         \n",
      " 3   codigo_ocorrencia3               17646 non-null  int32         \n",
      " 4   codigo_ocorrencia4               17646 non-null  int32         \n",
      " 5   ocorrencia_classificacao         17646 non-null  category      \n",
      " 6   ocorrencia_latitude              16065 non-null  category      \n",
      " 7   ocorrencia_longitude             16065 non-null  category      \n",
      " 8   ocorrencia_cidade                17646 non-null  category      \n",
      " 9   ocorrencia_uf                    17646 non-null  category      \n",
      " 10  ocorrencia_pais                  17646 non-null  category      \n",
      " 11  ocorrencia_aerodromo             17646 non-null  category      \n",
      " 12  ocorrencia_dia                   17646 non-null  datetime64[ns]\n",
      " 13  ocorrencia_hora                  17645 non-null  category      \n",
      " 14  investigacao_aeronave_liberada   15694 non-null  category      \n",
      " 15  investigacao_status              17292 non-null  category      \n",
      " 16  divulgacao_relatorio_numero      16814 non-null  category      \n",
      " 17  divulgacao_relatorio_publicado   17646 non-null  category      \n",
      " 18  divulgacao_dia_publicacao        12906 non-null  category      \n",
      " 19  total_recomendacoes              17646 non-null  int32         \n",
      " 20  total_aeronaves_envolvidas       17646 non-null  int32         \n",
      " 21  ocorrencia_saida_pista           17646 non-null  category      \n",
      " 22  ocorrencia_tipo                  17646 non-null  category      \n",
      " 23  ocorrencia_tipo_categoria        17646 non-null  category      \n",
      " 24  taxonomia_tipo_icao              17646 non-null  category      \n",
      " 25  aeronave_matricula               17646 non-null  category      \n",
      " 26  aeronave_operador_categoria      17646 non-null  category      \n",
      " 27  aeronave_tipo_veiculo            17646 non-null  category      \n",
      " 28  aeronave_fabricante              17646 non-null  category      \n",
      " 29  aeronave_modelo                  17646 non-null  category      \n",
      " 30  aeronave_tipo_icao               17646 non-null  category      \n",
      " 31  aeronave_motor_tipo              17643 non-null  category      \n",
      " 32  aeronave_motor_quantidade        17646 non-null  category      \n",
      " 33  aeronave_pmd                     17646 non-null  int32         \n",
      " 34  aeronave_pmd_categoria           17646 non-null  int32         \n",
      " 35  aeronave_assentos                17646 non-null  int32         \n",
      " 36  aeronave_ano_fabricacao          17646 non-null  int32         \n",
      " 37  aeronave_pais_fabricante         17646 non-null  category      \n",
      " 38  aeronave_pais_registro           17646 non-null  category      \n",
      " 39  aeronave_registro_categoria      17646 non-null  category      \n",
      " 40  aeronave_registro_segmento       17646 non-null  category      \n",
      " 41  aeronave_voo_origem              17645 non-null  category      \n",
      " 42  aeronave_voo_destino             17645 non-null  category      \n",
      " 43  aeronave_fase_operacao           17646 non-null  category      \n",
      " 44  aeronave_tipo_operacao           17646 non-null  category      \n",
      " 45  aeronave_nivel_dano              17646 non-null  category      \n",
      " 46  aeronave_fatalidades_total       17646 non-null  int32         \n",
      " 47  fator_nome                       12465 non-null  category      \n",
      " 48  fator_aspecto                    12465 non-null  category      \n",
      " 49  fator_condicionante              12465 non-null  category      \n",
      " 50  fator_area                       12465 non-null  category      \n",
      " 51  recomendacao_numero              11400 non-null  category      \n",
      " 52  recomendacao_dia_assinatura      11400 non-null  datetime64[ns]\n",
      " 53  recomendacao_dia_encaminhamento  11400 non-null  datetime64[ns]\n",
      " 54  recomendacao_dia_feedback        7293 non-null   datetime64[ns]\n",
      " 55  recomendacao_conteudo            11399 non-null  category      \n",
      " 56  recomendacao_status              11400 non-null  category      \n",
      " 57  recomendacao_destinatario_sigla  11400 non-null  category      \n",
      " 58  recomendacao_destinatario        11400 non-null  category      \n",
      "dtypes: category(43), datetime64[ns](4), int32(12)\n",
      "memory usage: 3.1 MB\n"
     ]
    }
   ],
   "source": [
    "df1.info(show_counts=True)"
   ]
  },
  {
   "cell_type": "markdown",
   "id": "visible-painting",
   "metadata": {},
   "source": [
    "## 1.4 Drop Columns"
   ]
  },
  {
   "cell_type": "markdown",
   "id": "abroad-mitchell",
   "metadata": {
    "ExecuteTime": {
     "end_time": "2022-01-27T13:02:40.058859Z",
     "start_time": "2022-01-27T13:02:39.907856Z"
    }
   },
   "source": [
    "### Excluindo as colunas duplicadas ou com informações pouco importantes para insights \n",
    "\n",
    "**Suposição**: não é um relatório de follow up (data que entregou, 'recomendacao_dia_feedback', etc) mas do conteúdo/informações apresentadas , recomendacao_destinatario_sigla : mesma info que recomendacao_destinatario\n",
    "- 'aeronave_pmd', 'aeronave_pmd_categoria' : supondo que seja indice somente"
   ]
  },
  {
   "cell_type": "code",
   "execution_count": 17,
   "id": "settled-holly",
   "metadata": {
    "ExecuteTime": {
     "end_time": "2022-01-27T18:56:35.252240Z",
     "start_time": "2022-01-27T18:56:35.224240Z"
    }
   },
   "outputs": [],
   "source": [
    "df1.drop(['codigo_ocorrencia', 'codigo_ocorrencia1', 'codigo_ocorrencia2',\n",
    "       'codigo_ocorrencia3', 'codigo_ocorrencia4','divulgacao_relatorio_numero', 'ocorrencia_pais', 'recomendacao_numero', 'recomendacao_dia_feedback' , 'recomendacao_destinatario_sigla', 'aeronave_matricula', 'aeronave_pmd', 'aeronave_pmd_categoria'], axis=1, inplace=True)"
   ]
  },
  {
   "cell_type": "code",
   "execution_count": 18,
   "id": "adult-charter",
   "metadata": {
    "ExecuteTime": {
     "end_time": "2022-01-27T18:56:35.284232Z",
     "start_time": "2022-01-27T18:56:35.257234Z"
    }
   },
   "outputs": [
    {
     "name": "stdout",
     "output_type": "stream",
     "text": [
      "Number of Rows: 17646\n",
      "Number of Cols: 46\n"
     ]
    }
   ],
   "source": [
    "print( 'Number of Rows: {}'.format( df1.shape[0] ) )\n",
    "print( 'Number of Cols: {}'.format( df1.shape[1] ) )"
   ]
  },
  {
   "cell_type": "markdown",
   "id": "superb-member",
   "metadata": {
    "heading_collapsed": true
   },
   "source": [
    "## 1.4. Check NA"
   ]
  },
  {
   "cell_type": "code",
   "execution_count": 19,
   "id": "accredited-canon",
   "metadata": {
    "ExecuteTime": {
     "end_time": "2022-01-27T18:56:35.330236Z",
     "start_time": "2022-01-27T18:56:35.289246Z"
    },
    "hidden": true
   },
   "outputs": [
    {
     "data": {
      "text/plain": [
       "ocorrencia_classificacao              0\n",
       "ocorrencia_latitude                1581\n",
       "ocorrencia_longitude               1581\n",
       "ocorrencia_cidade                     0\n",
       "ocorrencia_uf                         0\n",
       "ocorrencia_aerodromo                  0\n",
       "ocorrencia_dia                        0\n",
       "ocorrencia_hora                       1\n",
       "investigacao_aeronave_liberada     1952\n",
       "investigacao_status                 354\n",
       "divulgacao_relatorio_publicado        0\n",
       "divulgacao_dia_publicacao          4740\n",
       "total_recomendacoes                   0\n",
       "total_aeronaves_envolvidas            0\n",
       "ocorrencia_saida_pista                0\n",
       "ocorrencia_tipo                       0\n",
       "ocorrencia_tipo_categoria             0\n",
       "taxonomia_tipo_icao                   0\n",
       "aeronave_operador_categoria           0\n",
       "aeronave_tipo_veiculo                 0\n",
       "aeronave_fabricante                   0\n",
       "aeronave_modelo                       0\n",
       "aeronave_tipo_icao                    0\n",
       "aeronave_motor_tipo                   3\n",
       "aeronave_motor_quantidade             0\n",
       "aeronave_assentos                     0\n",
       "aeronave_ano_fabricacao               0\n",
       "aeronave_pais_fabricante              0\n",
       "aeronave_pais_registro                0\n",
       "aeronave_registro_categoria           0\n",
       "aeronave_registro_segmento            0\n",
       "aeronave_voo_origem                   1\n",
       "aeronave_voo_destino                  1\n",
       "aeronave_fase_operacao                0\n",
       "aeronave_tipo_operacao                0\n",
       "aeronave_nivel_dano                   0\n",
       "aeronave_fatalidades_total            0\n",
       "fator_nome                         5181\n",
       "fator_aspecto                      5181\n",
       "fator_condicionante                5181\n",
       "fator_area                         5181\n",
       "recomendacao_dia_assinatura        6246\n",
       "recomendacao_dia_encaminhamento    6246\n",
       "recomendacao_conteudo              6247\n",
       "recomendacao_status                6246\n",
       "recomendacao_destinatario          6246\n",
       "dtype: int64"
      ]
     },
     "execution_count": 19,
     "metadata": {},
     "output_type": "execute_result"
    }
   ],
   "source": [
    "df1.isna().sum()"
   ]
  },
  {
   "cell_type": "markdown",
   "id": "tired-throat",
   "metadata": {
    "heading_collapsed": true
   },
   "source": [
    "## 1.5  Fill Out NA"
   ]
  },
  {
   "cell_type": "code",
   "execution_count": 20,
   "id": "antique-poison",
   "metadata": {
    "ExecuteTime": {
     "end_time": "2022-01-27T18:56:35.712292Z",
     "start_time": "2022-01-27T18:56:35.334236Z"
    },
    "hidden": true
   },
   "outputs": [],
   "source": [
    "#correncia_latitude  como todas com na tem 'ocorrencia_cidade', colocar 0 para manter as linhas\n",
    "df1['ocorrencia_latitude'] = df1['ocorrencia_latitude'].cat.add_categories(\"0\").fillna(\"0\")\n",
    "\n",
    "#ocorrencia_longitude                1581\n",
    "df1['ocorrencia_longitude'] = df1['ocorrencia_longitude'].cat.add_categories(\"0\").fillna(\"0\")\n",
    "\n",
    "#ocorrencia_hora       drop\n",
    "df1.dropna(subset =['ocorrencia_hora'], inplace=True)\n",
    "\n",
    "#investigacao_aeronave_liberada - Suposições:\n",
    "## SIM se investigação status = FINALIZADO e recomendacao_status == 'CUMPRIDA' ou \"CUMPRIDA DE FORMA ALTERNATIVA \"\n",
    "# NAO se divulgacao_relatorio_publicado == NAO \n",
    "# os na´s que sobreram drop =647 \n",
    "df1.loc[ (df1['investigacao_aeronave_liberada'].isna()) & (df1['investigacao_status']== 'FINALIZADA') & (df1['recomendacao_status'] == ('CUMPRIDA' or 'CUMPRIDA DE FORMA ALTERNATIVA') ) , 'investigacao_aeronave_liberada'] = \"SIM\"\n",
    "df1.loc[ ( df1['investigacao_aeronave_liberada'].isna() ) & ( df1.divulgacao_relatorio_publicado == 'NÃO' ) , 'investigacao_aeronave_liberada'] = 'NÃO'\n",
    "df1.dropna(subset =['investigacao_aeronave_liberada'], inplace=True)\n",
    "\n",
    "\n",
    "#investigacao_status                  354   \n",
    "df1.dropna(subset =['investigacao_status'], inplace=True)\n",
    "\n",
    "\n",
    "#divulgacao_dia_publicacao           4740  destes     4385 NÃO tem relatorio publicado , data - 0 \n",
    "df1['divulgacao_dia_publicacao'] = df1['divulgacao_dia_publicacao'].cat.add_categories(\"0\").fillna(\"0\")\n",
    "\n",
    "#aeronave_voo_origem                    1\n",
    "df1.dropna(subset =['aeronave_voo_origem'], inplace=True)\n",
    "\n",
    "# aeronave_motor_tipo\n",
    "df1.dropna(subset =['aeronave_motor_tipo'], inplace=True)\n",
    "\n",
    "## 4799  ou 28% do db como o obj. criei cat 'não informado' -para relatório ok                        \n",
    "df1['fator_nome'] = df1['fator_nome'].cat.add_categories(\"não informado\").fillna(\"não informado\")                     \n",
    "df1['fator_aspecto'] = df1['fator_aspecto'].cat.add_categories(\"não informado\").fillna(\"não informado\")\n",
    "df1['fator_condicionante'] = df1['fator_condicionante'].cat.add_categories(\"não informado\").fillna(\"não informado\")\n",
    "df1['fator_area'] = df1['fator_area'].cat.add_categories(\"não informado\").fillna(\"não informado\")\n",
    "\n",
    "# recomendacao_dia_assinatura = quando publivcado = recomendacao_dia_assinatura == 'divulgacao_dia_publicacao'\n",
    "df1.loc[ df1['recomendacao_dia_assinatura'].isna(), 'recomendacao_dia_assinatura' ] = df1.loc[ df1['recomendacao_dia_assinatura'].isna(), 'divulgacao_dia_publicacao' ]\n",
    "\n",
    "# para ter esses valores, suponho que a divulgacao_relatorio_publicado == SIM investigacao_status == finalizado\n",
    "#recomendacao_dia_encaminhamento    5698\n",
    "# não foi publicado, não tem como ter folow up = divulgacao_relatorio_publicado == \"NÃO\", então 0.\n",
    "df1.loc[df1['recomendacao_dia_encaminhamento'].isna()  & (df1['divulgacao_relatorio_publicado']== 'NÃO') , 'recomendacao_dia_encaminhamento'] = 0\n",
    "df1['recomendacao_dia_encaminhamento'].fillna(0, inplace=True )\n",
    "\n",
    "\n",
    "# set categoria\n",
    "df1['recomendacao_conteudo'] = df1['recomendacao_conteudo'].cat.add_categories(\"NA - relatório Não publicado\")\n",
    "\n",
    "# recomendacao_conteudo\n",
    "df1.loc[df1['recomendacao_conteudo'].isna()  & (df1['divulgacao_relatorio_publicado']== 'NÃO') , 'recomendacao_conteudo'] = \"NA - relatório Não publicado\"\n",
    "# o restante vou dropar \n",
    "df1.dropna(subset =['recomendacao_conteudo'], inplace=True)\n",
    "\n",
    "# recomendacao_conteudo\n",
    "df1.loc[df1['recomendacao_status'].isna()  & (df1['divulgacao_relatorio_publicado']== 'NÃO') , 'recomendacao_status'] = \"***\"\n",
    "df1.dropna(subset =['recomendacao_status'], inplace=True)\n",
    "\n",
    "\n",
    "#set categoria\n",
    "df1['recomendacao_destinatario'] = df1['recomendacao_destinatario'].cat.add_categories(\"NA - relatório Não publicado\")\n",
    "# recomendacao_destinatario\n",
    "df1.loc[df1['recomendacao_destinatario'].isna()  & (df1['divulgacao_relatorio_publicado']== 'NÃO') , 'recomendacao_destinatario'] = \"NA - relatório Não publicado\""
   ]
  },
  {
   "cell_type": "code",
   "execution_count": 21,
   "id": "monthly-chuck",
   "metadata": {
    "ExecuteTime": {
     "end_time": "2022-01-27T18:56:35.728235Z",
     "start_time": "2022-01-27T18:56:35.723234Z"
    },
    "hidden": true
   },
   "outputs": [],
   "source": [
    "#df1.to_csv('./data/ocorrencias_aeronauticas_cleaned.csv', index=False)"
   ]
  },
  {
   "cell_type": "code",
   "execution_count": 22,
   "id": "small-wallace",
   "metadata": {
    "ExecuteTime": {
     "end_time": "2022-01-27T18:56:35.760237Z",
     "start_time": "2022-01-27T18:56:35.739236Z"
    },
    "hidden": true
   },
   "outputs": [],
   "source": [
    "#df_cleaned = pd.read_csv('./data/ocorrencias_aeronauticas_cleaned.csv')"
   ]
  },
  {
   "cell_type": "code",
   "execution_count": 23,
   "id": "orange-essex",
   "metadata": {
    "ExecuteTime": {
     "end_time": "2022-01-27T18:56:35.792238Z",
     "start_time": "2022-01-27T18:56:35.766237Z"
    },
    "hidden": true
   },
   "outputs": [
    {
     "name": "stdout",
     "output_type": "stream",
     "text": [
      "Number of Rows: 15287\n",
      "Number of Cols: 46\n"
     ]
    }
   ],
   "source": [
    "print( 'Number of Rows: {}'.format( df1.shape[0] ) )\n",
    "print( 'Number of Cols: {}'.format( df1.shape[1] ) )"
   ]
  },
  {
   "cell_type": "markdown",
   "id": "personal-jerusalem",
   "metadata": {
    "hidden": true
   },
   "source": [
    "*** Tentei diminuir o mínimo de linhas possíveis por não saber o objetivo que serão usadas as informações ***"
   ]
  },
  {
   "cell_type": "markdown",
   "id": "atlantic-boost",
   "metadata": {},
   "source": [
    "## 1.6 Descriptive Statistics"
   ]
  },
  {
   "cell_type": "code",
   "execution_count": 24,
   "id": "professional-payday",
   "metadata": {
    "ExecuteTime": {
     "end_time": "2022-01-27T18:56:36.046269Z",
     "start_time": "2022-01-27T18:56:35.799241Z"
    }
   },
   "outputs": [
    {
     "name": "stderr",
     "output_type": "stream",
     "text": [
      "C:\\Users\\ACER\\anaconda3\\envs\\datasciencemproducao\\lib\\site-packages\\pandas\\core\\frame.py:4308: SettingWithCopyWarning: \n",
      "A value is trying to be set on a copy of a slice from a DataFrame\n",
      "\n",
      "See the caveats in the documentation: https://pandas.pydata.org/pandas-docs/stable/user_guide/indexing.html#returning-a-view-versus-a-copy\n",
      "  return super().drop(\n"
     ]
    }
   ],
   "source": [
    "num_attributes = df1.select_dtypes( include=['int32', 'float64'] )\n",
    "cat_attributes = df1.select_dtypes( exclude=['int32', 'float64', 'datetime64[ns]'] )\n",
    "\n",
    "\n",
    "cat_attributes.drop(['recomendacao_dia_assinatura', 'recomendacao_dia_encaminhamento', 'divulgacao_dia_publicacao'], axis=1, inplace=True)"
   ]
  },
  {
   "cell_type": "markdown",
   "id": "provincial-surprise",
   "metadata": {
    "ExecuteTime": {
     "end_time": "2022-01-27T14:28:53.438914Z",
     "start_time": "2022-01-27T14:28:53.423969Z"
    }
   },
   "source": [
    "### 1.6.1. Numerical Attributes"
   ]
  },
  {
   "cell_type": "code",
   "execution_count": 25,
   "id": "radical-timber",
   "metadata": {
    "ExecuteTime": {
     "end_time": "2022-01-27T18:56:36.174234Z",
     "start_time": "2022-01-27T18:56:36.049231Z"
    },
    "hide_input": true
   },
   "outputs": [
    {
     "data": {
      "text/html": [
       "<div>\n",
       "<style scoped>\n",
       "    .dataframe tbody tr th:only-of-type {\n",
       "        vertical-align: middle;\n",
       "    }\n",
       "\n",
       "    .dataframe tbody tr th {\n",
       "        vertical-align: top;\n",
       "    }\n",
       "\n",
       "    .dataframe thead th {\n",
       "        text-align: right;\n",
       "    }\n",
       "</style>\n",
       "<table border=\"1\" class=\"dataframe\">\n",
       "  <thead>\n",
       "    <tr style=\"text-align: right;\">\n",
       "      <th></th>\n",
       "      <th>attributes</th>\n",
       "      <th>min</th>\n",
       "      <th>max</th>\n",
       "      <th>range</th>\n",
       "      <th>mean</th>\n",
       "      <th>median</th>\n",
       "      <th>std</th>\n",
       "      <th>skew</th>\n",
       "      <th>kurtosis</th>\n",
       "    </tr>\n",
       "  </thead>\n",
       "  <tbody>\n",
       "    <tr>\n",
       "      <th>0</th>\n",
       "      <td>total_recomendacoes</td>\n",
       "      <td>0.0</td>\n",
       "      <td>23.0</td>\n",
       "      <td>23.0</td>\n",
       "      <td>4.582129</td>\n",
       "      <td>3.0</td>\n",
       "      <td>5.687167</td>\n",
       "      <td>1.737442</td>\n",
       "      <td>2.505605</td>\n",
       "    </tr>\n",
       "    <tr>\n",
       "      <th>1</th>\n",
       "      <td>total_aeronaves_envolvidas</td>\n",
       "      <td>1.0</td>\n",
       "      <td>3.0</td>\n",
       "      <td>2.0</td>\n",
       "      <td>1.039772</td>\n",
       "      <td>1.0</td>\n",
       "      <td>0.198414</td>\n",
       "      <td>4.935046</td>\n",
       "      <td>23.789335</td>\n",
       "    </tr>\n",
       "    <tr>\n",
       "      <th>2</th>\n",
       "      <td>aeronave_assentos</td>\n",
       "      <td>0.0</td>\n",
       "      <td>384.0</td>\n",
       "      <td>384.0</td>\n",
       "      <td>23.352783</td>\n",
       "      <td>6.0</td>\n",
       "      <td>51.541480</td>\n",
       "      <td>3.270078</td>\n",
       "      <td>11.793562</td>\n",
       "    </tr>\n",
       "    <tr>\n",
       "      <th>3</th>\n",
       "      <td>aeronave_ano_fabricacao</td>\n",
       "      <td>0.0</td>\n",
       "      <td>16.0</td>\n",
       "      <td>16.0</td>\n",
       "      <td>1.064434</td>\n",
       "      <td>0.0</td>\n",
       "      <td>2.941989</td>\n",
       "      <td>3.871704</td>\n",
       "      <td>15.747954</td>\n",
       "    </tr>\n",
       "    <tr>\n",
       "      <th>4</th>\n",
       "      <td>aeronave_fatalidades_total</td>\n",
       "      <td>0.0</td>\n",
       "      <td>16.0</td>\n",
       "      <td>16.0</td>\n",
       "      <td>1.064434</td>\n",
       "      <td>0.0</td>\n",
       "      <td>2.941989</td>\n",
       "      <td>3.871704</td>\n",
       "      <td>15.747954</td>\n",
       "    </tr>\n",
       "  </tbody>\n",
       "</table>\n",
       "</div>"
      ],
      "text/plain": [
       "                   attributes  min    max  range       mean  median  \\\n",
       "0         total_recomendacoes  0.0   23.0   23.0   4.582129     3.0   \n",
       "1  total_aeronaves_envolvidas  1.0    3.0    2.0   1.039772     1.0   \n",
       "2           aeronave_assentos  0.0  384.0  384.0  23.352783     6.0   \n",
       "3     aeronave_ano_fabricacao  0.0   16.0   16.0   1.064434     0.0   \n",
       "4  aeronave_fatalidades_total  0.0   16.0   16.0   1.064434     0.0   \n",
       "\n",
       "         std      skew   kurtosis  \n",
       "0   5.687167  1.737442   2.505605  \n",
       "1   0.198414  4.935046  23.789335  \n",
       "2  51.541480  3.270078  11.793562  \n",
       "3   2.941989  3.871704  15.747954  \n",
       "4   2.941989  3.871704  15.747954  "
      ]
     },
     "execution_count": 25,
     "metadata": {},
     "output_type": "execute_result"
    }
   ],
   "source": [
    "# Central Tendency - mean, meadina \n",
    "ct1 = pd.DataFrame( num_attributes.apply( np.mean ) ).T\n",
    "ct2 = pd.DataFrame( num_attributes.apply( np.median ) ).T\n",
    "\n",
    "# dispersion - std, min, max, range, skew, kurtosis\n",
    "d1 = pd.DataFrame( num_attributes.apply( np.std ) ).T \n",
    "d2 = pd.DataFrame( num_attributes.apply( min ) ).T \n",
    "d3 = pd.DataFrame( num_attributes.apply( max ) ).T \n",
    "d4 = pd.DataFrame( num_attributes.apply( lambda x: x.max() - x.min() ) ).T \n",
    "d5 = pd.DataFrame( num_attributes.apply( lambda x: x.skew() ) ).T \n",
    "d6 = pd.DataFrame( num_attributes.apply( lambda x: x.kurtosis() ) ).T \n",
    "\n",
    "# concatenar\n",
    "m = pd.concat( [d2, d3, d4, ct1, ct2, d1, d5, d6] ).T.reset_index()\n",
    "m.columns = ['attributes', 'min', 'max', 'range', 'mean', 'median', 'std', 'skew', 'kurtosis']\n",
    "m"
   ]
  },
  {
   "cell_type": "markdown",
   "id": "southwest-project",
   "metadata": {
    "ExecuteTime": {
     "end_time": "2022-01-27T16:40:27.434394Z",
     "start_time": "2022-01-27T16:40:27.416391Z"
    }
   },
   "source": [
    "- Total_recomendações: grande range, skew deslocado para a esquerda, maioria valores baixos, confirmado pela mediana\n",
    "- total_aeronaves_envolvidas = maioria 1 (media e mediana próximas)\n",
    "- aeronave_assentos: maioria com 6 assentos, skew  grande \n",
    "- aeronave_ano_fabricacao: maioria 0, concentração de valores menores\n",
    "-aeronave_fatalidades_total = maioria sem fatalidades"
   ]
  },
  {
   "cell_type": "markdown",
   "id": "charitable-messenger",
   "metadata": {},
   "source": [
    "### 1.6.2 Categorical Attributes"
   ]
  },
  {
   "cell_type": "code",
   "execution_count": 26,
   "id": "three-theta",
   "metadata": {
    "ExecuteTime": {
     "end_time": "2022-01-27T18:56:36.251238Z",
     "start_time": "2022-01-27T18:56:36.178239Z"
    }
   },
   "outputs": [
    {
     "data": {
      "text/plain": [
       "ocorrencia_classificacao             3\n",
       "ocorrencia_latitude               2014\n",
       "ocorrencia_longitude              2008\n",
       "ocorrencia_cidade                  881\n",
       "ocorrencia_uf                       28\n",
       "ocorrencia_aerodromo               421\n",
       "ocorrencia_hora                    949\n",
       "investigacao_aeronave_liberada       3\n",
       "investigacao_status                  2\n",
       "divulgacao_relatorio_publicado       2\n",
       "ocorrencia_saida_pista               2\n",
       "ocorrencia_tipo                     80\n",
       "ocorrencia_tipo_categoria           80\n",
       "taxonomia_tipo_icao                 31\n",
       "aeronave_operador_categoria         12\n",
       "aeronave_tipo_veiculo                9\n",
       "aeronave_fabricante                161\n",
       "aeronave_modelo                    632\n",
       "aeronave_tipo_icao                 225\n",
       "aeronave_motor_tipo                  6\n",
       "aeronave_motor_quantidade            6\n",
       "aeronave_pais_fabricante            24\n",
       "aeronave_pais_registro              24\n",
       "aeronave_registro_categoria          9\n",
       "aeronave_registro_segmento          13\n",
       "aeronave_voo_origem                558\n",
       "aeronave_voo_destino               561\n",
       "aeronave_fase_operacao              32\n",
       "aeronave_tipo_operacao              10\n",
       "aeronave_nivel_dano                  5\n",
       "fator_nome                          71\n",
       "fator_aspecto                       13\n",
       "fator_condicionante                  8\n",
       "fator_area                           6\n",
       "recomendacao_conteudo             1716\n",
       "recomendacao_status                  5\n",
       "recomendacao_destinatario           86\n",
       "dtype: int64"
      ]
     },
     "execution_count": 26,
     "metadata": {},
     "output_type": "execute_result"
    }
   ],
   "source": [
    "cat_attributes.apply( lambda x: x.unique().shape[0] )"
   ]
  },
  {
   "cell_type": "code",
   "execution_count": 27,
   "id": "conservative-variable",
   "metadata": {
    "ExecuteTime": {
     "end_time": "2022-01-27T18:56:36.838232Z",
     "start_time": "2022-01-27T18:56:36.255236Z"
    },
    "cell_style": "split"
   },
   "outputs": [
    {
     "data": {
      "image/png": "[encoded data removed]",
      "text/plain": [
       "<Figure size 360x360 with 1 Axes>"
      ]
     },
     "metadata": {
      "needs_background": "light"
     },
     "output_type": "display_data"
    }
   ],
   "source": [
    "sns.catplot(data=df1, x=\"aeronave_assentos\", y=\"ocorrencia_classificacao\", kind=\"box\");"
   ]
  },
  {
   "cell_type": "code",
   "execution_count": 28,
   "id": "dated-bangladesh",
   "metadata": {
    "ExecuteTime": {
     "end_time": "2022-01-27T18:56:38.706233Z",
     "start_time": "2022-01-27T18:56:36.843235Z"
    },
    "cell_style": "split"
   },
   "outputs": [
    {
     "data": {
      "image/png": "[encoded data removed]",
      "text/plain": [
       "<Figure size 481.5x360 with 1 Axes>"
      ]
     },
     "metadata": {
      "needs_background": "light"
     },
     "output_type": "display_data"
    }
   ],
   "source": [
    "#ocorrencia_classificacao \n",
    "sns.catplot(data=df1, x=\"aeronave_assentos\", y=\"aeronave_nivel_dano\", hue=\"ocorrencia_saida_pista\", kind=\"bar\");"
   ]
  },
  {
   "cell_type": "code",
   "execution_count": 29,
   "id": "impressive-setting",
   "metadata": {
    "ExecuteTime": {
     "end_time": "2022-01-27T18:56:40.162240Z",
     "start_time": "2022-01-27T18:56:38.710233Z"
    },
    "cell_style": "center",
    "scrolled": true
   },
   "outputs": [
    {
     "data": {
      "image/png": "[encoded data removed]",
      "text/plain": [
       "<Figure size 360x360 with 1 Axes>"
      ]
     },
     "metadata": {
      "needs_background": "light"
     },
     "output_type": "display_data"
    }
   ],
   "source": [
    "sns.catplot(data=df1, y=\"aeronave_registro_categoria\", x=\"aeronave_ano_fabricacao\" , kind=\"bar\");\n"
   ]
  },
  {
   "cell_type": "code",
   "execution_count": 58,
   "id": "marine-shower",
   "metadata": {
    "ExecuteTime": {
     "end_time": "2022-01-27T19:24:32.668236Z",
     "start_time": "2022-01-27T19:24:32.280245Z"
    },
    "cell_style": "center"
   },
   "outputs": [
    {
     "data": {
      "image/png": "[encoded data removed]",
      "text/plain": [
       "<Figure size 1080x288 with 1 Axes>"
      ]
     },
     "metadata": {
      "needs_background": "light"
     },
     "output_type": "display_data"
    }
   ],
   "source": [
    "aux = df1.loc[df1.aeronave_motor_tipo != (\"***\"), :]\n",
    "fig = plt.subplots(figsize = (15,4))\n",
    "sns.countplot(x = 'aeronave_motor_tipo', data = aux);"
   ]
  },
  {
   "cell_type": "code",
   "execution_count": 62,
   "id": "attended-homeless",
   "metadata": {
    "ExecuteTime": {
     "end_time": "2022-01-27T19:29:46.039239Z",
     "start_time": "2022-01-27T19:29:45.535234Z"
    }
   },
   "outputs": [
    {
     "data": {
      "image/png": "[encoded data removed]",
      "text/plain": [
       "<Figure size 1080x288 with 1 Axes>"
      ]
     },
     "metadata": {
      "needs_background": "light"
     },
     "output_type": "display_data"
    }
   ],
   "source": [
    "fig = plt.subplots(figsize = (15,4))\n",
    "sns.countplot(x ='ocorrencia_uf', data = df1);"
   ]
  },
  {
   "cell_type": "code",
   "execution_count": 61,
   "id": "sixth-hands",
   "metadata": {
    "ExecuteTime": {
     "end_time": "2022-01-27T19:29:22.469237Z",
     "start_time": "2022-01-27T19:29:22.452232Z"
    }
   },
   "outputs": [
    {
     "data": {
      "text/plain": [
       "SP     3107\n",
       "RJ     1754\n",
       "PR     1173\n",
       "RS      946\n",
       "BA      925\n",
       "PA      915\n",
       "MG      767\n",
       "AM      757\n",
       "GO      735\n",
       "PE      689\n",
       "DF      619\n",
       "MT      481\n",
       "SC      311\n",
       "CE      309\n",
       "MS      300\n",
       "MA      249\n",
       "SE      221\n",
       "PI      181\n",
       "AL      161\n",
       "AC      155\n",
       "RR      154\n",
       "ES      101\n",
       "RO      101\n",
       "TO       93\n",
       "AP       37\n",
       "PB       33\n",
       "RN       12\n",
       "***       1\n",
       "Name: ocorrencia_uf, dtype: int64"
      ]
     },
     "execution_count": 61,
     "metadata": {},
     "output_type": "execute_result"
    }
   ],
   "source": [
    "df1.ocorrencia_uf.value_counts()"
   ]
  },
  {
   "cell_type": "code",
   "execution_count": 31,
   "id": "cultural-arrow",
   "metadata": {
    "ExecuteTime": {
     "end_time": "2022-01-27T18:56:40.240233Z",
     "start_time": "2022-01-27T18:56:40.217234Z"
    }
   },
   "outputs": [],
   "source": [
    "#ocorrencia_classificacao             3\n",
    "#\n",
    "#ocorrencia_uf                       28\n",
    "#\n",
    "#ocorrencia_saida_pista               2\n",
    "#ocorrencia_tipo_categoria           80\n",
    "#taxonomia_tipo_icao   - 31 \n",
    "#aeronave_operador_categoria         12\n",
    "#aeronave_tipo_veiculo                9\n",
    "#aeronave_fabricante                161\n",
    "#\n",
    "#aeronave_motor_tipo                  6\n",
    "#\n",
    "#\n",
    "#\n",
    "#aeronave_registro_categoria          9\n",
    "#aeronave_registro_segmento          13\n",
    "#\n",
    "#aeronave_fase_operacao              32\n",
    "#aeronave_tipo_operacao              10\n",
    "#aeronave_nivel_dano                  5\n",
    "#\n",
    "#fator_aspecto                       13 #tira o nao informado , ***\n",
    "#fator_condicionante                  8 # tira o não informado e ***\n",
    "#fator_area                           6 # tira o não informado e ***\n",
    "#\n",
    "#recomendacao_status                  5 # tira ***\n",
    "#\n",
    "##Feature engineering\n",
    "## Só sim e não\n",
    "#divulgacao_relatorio_publicado -só tem sim e não  \n",
    "#ocorrencia_saida_pista\n"
   ]
  },
  {
   "cell_type": "code",
   "execution_count": 32,
   "id": "closed-sewing",
   "metadata": {
    "ExecuteTime": {
     "end_time": "2022-01-27T18:56:40.256235Z",
     "start_time": "2022-01-27T18:56:40.245241Z"
    }
   },
   "outputs": [],
   "source": [
    "## Drop columns\n",
    "# investigacao_aeronave_liberada só 3 colunas que SIM    12360 ***     2767 NÃO      160 não diz nada\n",
    "# aeronave_motor_quantidade            6 valores parecidos não diz nada\n",
    "\n",
    "\n",
    "# aeronave_modelo                    632 ?? rever\n",
    "\n",
    "\n",
    "## Menor ideia do que seja\n",
    "#taxonomia_tipo_icao                 31 um monte de siglas\n",
    "\n",
    "\n",
    "##Parecidas\n",
    "#ocorrencia_tipo                     80\n",
    "#ocorrencia_tipo_categoria           80\n",
    "\n",
    "# primeiras impressões\n",
    "# aeronave_pais_fabricante            24 ***maioria brasileira, mas os dados são do Brasil\n",
    "# aeronave_pais_registro              24 igual o que cima\n",
    "\n",
    "# conclusões legais\n",
    "#aeronave_voo_origem                558\n",
    "#aeronave_voo_destino               561\n",
    "#fator_nome                          71  muito geral quem sabe um NLP\n",
    "# recomendacao_conteudo     muito geral quem sabe um NLP\n",
    "\n",
    "# feature engeniiring\n",
    "# fator_aspecto                       13 #mudar *** para não informado\n",
    "\n",
    "# Todos os fatores_ tem que ser suposto que não houve a divulgação do relatório ainda\n",
    "\n",
    "#Grafico ideia \n",
    "#recomendacao_destinatario           86 # tira NA - relatório Não publicado e value_counts maior que x"
   ]
  },
  {
   "cell_type": "code",
   "execution_count": null,
   "id": "adjacent-lawyer",
   "metadata": {},
   "outputs": [],
   "source": []
  },
  {
   "cell_type": "code",
   "execution_count": 33,
   "id": "polar-particular",
   "metadata": {
    "ExecuteTime": {
     "end_time": "2022-01-27T18:56:41.194240Z",
     "start_time": "2022-01-27T18:56:40.262232Z"
    }
   },
   "outputs": [
    {
     "name": "stderr",
     "output_type": "stream",
     "text": [
      "<ipython-input-33-f6a8f98392e2>:1: UserWarning: Boolean Series key will be reindexed to match DataFrame index.\n",
      "  aux = df1[(df1[\"aeronave_motor_tipo\"] != \"***\" ) & (df1[\"aeronave_registro_categoria\"] != \"***\" ) & (df1[\"aeronave_registro_categoria\"].value_counts() > 5 ) ]\n"
     ]
    },
    {
     "data": {
      "image/png": "[encoded data removed]",
      "text/plain": [
       "<Figure size 432x288 with 3 Axes>"
      ]
     },
     "metadata": {
      "needs_background": "light"
     },
     "output_type": "display_data"
    }
   ],
   "source": [
    "aux = df1[(df1[\"aeronave_motor_tipo\"] != \"***\" ) & (df1[\"aeronave_registro_categoria\"] != \"***\" ) & (df1[\"aeronave_registro_categoria\"].value_counts() > 5 ) ]\n",
    "\n",
    "plt.subplot( 1, 3, 1 )\n",
    "a1 = sns.boxplot( x='aeronave_motor_tipo', y='aeronave_assentos', data=aux )\n",
    "plt.setp(a1.get_xticklabels(), rotation=45)\n",
    "\n",
    "plt.subplot( 1, 3, 2 )\n",
    "a = sns.boxplot( x='aeronave_registro_categoria', y='aeronave_assentos',  data=aux )\n",
    "plt.setp(a.get_xticklabels(), rotation=45)\n",
    "\n",
    "plt.subplot( 1, 3, 3 )\n",
    "a3 =sns.boxplot( x='ocorrencia_uf', y='aeronave_assentos', data=aux );\n",
    "plt.setp(a3.get_xticklabels(), rotation=45);\n"
   ]
  },
  {
   "cell_type": "code",
   "execution_count": 34,
   "id": "animal-fluid",
   "metadata": {
    "ExecuteTime": {
     "end_time": "2022-01-27T18:56:42.358234Z",
     "start_time": "2022-01-27T18:56:41.198233Z"
    }
   },
   "outputs": [
    {
     "data": {
      "text/plain": [
       "<AxesSubplot:xlabel='aeronave_assentos', ylabel='Count'>"
      ]
     },
     "execution_count": 34,
     "metadata": {},
     "output_type": "execute_result"
    },
    {
     "data": {
      "image/png": "[encoded data removed]",
      "text/plain": [
       "<Figure size 432x288 with 1 Axes>"
      ]
     },
     "metadata": {
      "needs_background": "light"
     },
     "output_type": "display_data"
    }
   ],
   "source": [
    "\n",
    "sns.histplot(data=num_attributes, x=\"aeronave_assentos\", bins=300)"
   ]
  }
 ],
 "metadata": {
  "kernelspec": {
   "display_name": "Python 3",
   "language": "python",
   "name": "python3"
  },
  "language_info": {
   "codemirror_mode": {
    "name": "ipython",
    "version": 3
   },
   "file_extension": ".py",
   "mimetype": "text/x-python",
   "name": "python",
   "nbconvert_exporter": "python",
   "pygments_lexer": "ipython3",
   "version": "3.8.8"
  }
 },
 "nbformat": 4,
 "nbformat_minor": 5
}
